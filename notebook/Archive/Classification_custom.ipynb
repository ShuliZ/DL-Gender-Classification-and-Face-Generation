{
 "cells": [
  {
   "cell_type": "markdown",
   "metadata": {},
   "source": [
    "# Deep Learning Project\n",
    "## Classification"
   ]
  },
  {
   "cell_type": "code",
   "execution_count": 28,
   "metadata": {},
   "outputs": [],
   "source": [
    "# import libraries\n",
    "import numpy as np  \n",
    "import pandas as pd \n",
    "import matplotlib.pyplot as plt \n",
    "import matplotlib.image as mpimg # For displaying images\n",
    "%matplotlib inline\n",
    "from keras import models\n",
    "# from keras import layers\n",
    "from keras.layers import Dense, Activation, Flatten, Dropout, BatchNormalization, Conv2D, MaxPooling2D\n",
    "import keras.preprocessing  as kp\n",
    "from keras.preprocessing.image import ImageDataGenerator\n",
    "from keras import regularizers\n",
    "from keras import optimizers\n",
    "from tensorflow.keras.utils import plot_model\n",
    "\n",
    "import os\n",
    "import tensorflow as tf"
   ]
  },
  {
   "cell_type": "code",
   "execution_count": 20,
   "metadata": {},
   "outputs": [
    {
     "name": "stdout",
     "output_type": "stream",
     "text": [
      "WARNING:tensorflow:From /tmp/ipykernel_37008/337460670.py:1: is_gpu_available (from tensorflow.python.framework.test_util) is deprecated and will be removed in a future version.\n",
      "Instructions for updating:\n",
      "Use `tf.config.list_physical_devices('GPU')` instead.\n"
     ]
    },
    {
     "name": "stderr",
     "output_type": "stream",
     "text": [
      "2022-05-21 15:17:21.123187: I tensorflow/core/common_runtime/gpu/gpu_device.cc:1532] Created device /device:GPU:0 with 9648 MB memory:  -> device: 0, name: GeForce RTX 2080 Ti, pci bus id: 0000:88:00.0, compute capability: 7.5\n"
     ]
    },
    {
     "data": {
      "text/plain": [
       "True"
      ]
     },
     "execution_count": 20,
     "metadata": {},
     "output_type": "execute_result"
    }
   ],
   "source": [
    "#tf.test.is_gpu_available()"
   ]
  },
  {
   "cell_type": "code",
   "execution_count": 3,
   "metadata": {},
   "outputs": [],
   "source": [
    "# import zipfile\n",
    "\n",
    "# path_to_zip_file = \"/nfs/home/twd1956/DeepLearning/Project/archive.zip\"\n",
    "# directory_to_extract_to = \"/nfs/home/twd1956/DeepLearning/Project/\"\n",
    "\n",
    "# with zipfile.ZipFile(path_to_zip_file, 'r') as zip_ref:\n",
    "#     zip_ref.extractall(directory_to_extract_to)"
   ]
  },
  {
   "cell_type": "code",
   "execution_count": 4,
   "metadata": {},
   "outputs": [],
   "source": [
    "PATH = \"/nfs/home/twd1956/DeepLearning/Project/\"\n",
    "\n",
    "train_dir = os.path.join(PATH, 'Training')\n",
    "validation_dir = os.path.join(PATH, 'Validation')\n",
    "\n",
    "BATCH_SIZE = 48\n",
    "IMG_SIZE = (250, 250)"
   ]
  },
  {
   "cell_type": "code",
   "execution_count": 5,
   "metadata": {},
   "outputs": [],
   "source": [
    "train_datagen = ImageDataGenerator( # Data Augumentation for test data\n",
    "                rescale=1./255,\n",
    "                rotation_range=30,\n",
    "                shear_range=0.3,\n",
    "                zoom_range=0.3\n",
    "                )\n",
    "\n",
    "test_datagen = ImageDataGenerator(rescale=1./255)"
   ]
  },
  {
   "cell_type": "code",
   "execution_count": 6,
   "metadata": {},
   "outputs": [
    {
     "name": "stdout",
     "output_type": "stream",
     "text": [
      "Found 47009 images belonging to 2 classes.\n"
     ]
    }
   ],
   "source": [
    "train_gen=train_datagen.flow_from_directory(train_dir,\n",
    "                                            target_size=IMG_SIZE,\n",
    "                                            batch_size=BATCH_SIZE,\n",
    "                                            class_mode='binary')"
   ]
  },
  {
   "cell_type": "code",
   "execution_count": 7,
   "metadata": {},
   "outputs": [
    {
     "name": "stdout",
     "output_type": "stream",
     "text": [
      "Found 11649 images belonging to 2 classes.\n"
     ]
    }
   ],
   "source": [
    "valid_gen=test_datagen.flow_from_directory(validation_dir,\n",
    "                                           target_size=(250,250),\n",
    "                                           batch_size=48,\n",
    "                                           class_mode='binary')"
   ]
  },
  {
   "cell_type": "code",
   "execution_count": 8,
   "metadata": {},
   "outputs": [],
   "source": [
    "kernel_s = (3,3)"
   ]
  },
  {
   "cell_type": "code",
   "execution_count": 9,
   "metadata": {},
   "outputs": [
    {
     "name": "stderr",
     "output_type": "stream",
     "text": [
      "2022-05-21 14:29:38.931559: I tensorflow/core/platform/cpu_feature_guard.cc:193] This TensorFlow binary is optimized with oneAPI Deep Neural Network Library (oneDNN) to use the following CPU instructions in performance-critical operations:  AVX2 AVX512F AVX512_VNNI FMA\n",
      "To enable them in other operations, rebuild TensorFlow with the appropriate compiler flags.\n",
      "2022-05-21 14:29:39.646397: W tensorflow/core/common_runtime/gpu/gpu_bfc_allocator.cc:42] Overriding orig_value setting because the TF_FORCE_GPU_ALLOW_GROWTH environment variable is set. Original config value was 0.\n",
      "2022-05-21 14:29:39.646450: I tensorflow/core/common_runtime/gpu/gpu_device.cc:1532] Created device /job:localhost/replica:0/task:0/device:GPU:0 with 9648 MB memory:  -> device: 0, name: GeForce RTX 2080 Ti, pci bus id: 0000:88:00.0, compute capability: 7.5\n"
     ]
    }
   ],
   "source": [
    "model=models.Sequential()\n",
    "model.add(Conv2D(32,kernel_s,activation='relu',input_shape=(250,250,3),\n",
    "                        kernel_regularizer=regularizers.l2(0.001),padding=\"VALID\"))\n",
    "model.add(MaxPooling2D((2,2)))\n",
    "\n",
    "model.add(Conv2D(64,kernel_s,activation='relu'))\n",
    "model.add(MaxPooling2D((2,2)))\n",
    "model.add(Conv2D(64,kernel_s,activation='relu'))\n",
    "model.add(MaxPooling2D((2,2)))\n",
    "\n",
    "model.add(Conv2D(128,kernel_s,activation='relu'))\n",
    "model.add(MaxPooling2D((2,2)))\n",
    "model.add(Conv2D(128,kernel_s,activation='relu'))\n",
    "model.add(MaxPooling2D((2,2)))\n",
    "\n",
    "model.add(Flatten())\n",
    "model.add(Dense(256,activation='relu'))\n",
    "model.add(Dense(1,activation='sigmoid'))\n",
    "# model.summary()"
   ]
  },
  {
   "cell_type": "code",
   "execution_count": 10,
   "metadata": {},
   "outputs": [],
   "source": [
    "model.compile(optimizer='rmsprop',loss='binary_crossentropy',metrics=['acc'])"
   ]
  },
  {
   "cell_type": "code",
   "execution_count": 11,
   "metadata": {},
   "outputs": [
    {
     "name": "stdout",
     "output_type": "stream",
     "text": [
      "Model: \"sequential\"\n",
      "_________________________________________________________________\n",
      " Layer (type)                Output Shape              Param #   \n",
      "=================================================================\n",
      " conv2d (Conv2D)             (None, 248, 248, 32)      896       \n",
      "                                                                 \n",
      " max_pooling2d (MaxPooling2D  (None, 124, 124, 32)     0         \n",
      " )                                                               \n",
      "                                                                 \n",
      " conv2d_1 (Conv2D)           (None, 122, 122, 64)      18496     \n",
      "                                                                 \n",
      " max_pooling2d_1 (MaxPooling  (None, 61, 61, 64)       0         \n",
      " 2D)                                                             \n",
      "                                                                 \n",
      " conv2d_2 (Conv2D)           (None, 59, 59, 64)        36928     \n",
      "                                                                 \n",
      " max_pooling2d_2 (MaxPooling  (None, 29, 29, 64)       0         \n",
      " 2D)                                                             \n",
      "                                                                 \n",
      " conv2d_3 (Conv2D)           (None, 27, 27, 128)       73856     \n",
      "                                                                 \n",
      " max_pooling2d_3 (MaxPooling  (None, 13, 13, 128)      0         \n",
      " 2D)                                                             \n",
      "                                                                 \n",
      " conv2d_4 (Conv2D)           (None, 11, 11, 128)       147584    \n",
      "                                                                 \n",
      " max_pooling2d_4 (MaxPooling  (None, 5, 5, 128)        0         \n",
      " 2D)                                                             \n",
      "                                                                 \n",
      " flatten (Flatten)           (None, 3200)              0         \n",
      "                                                                 \n",
      " dense (Dense)               (None, 256)               819456    \n",
      "                                                                 \n",
      " dense_1 (Dense)             (None, 1)                 257       \n",
      "                                                                 \n",
      "=================================================================\n",
      "Total params: 1,097,473\n",
      "Trainable params: 1,097,473\n",
      "Non-trainable params: 0\n",
      "_________________________________________________________________\n"
     ]
    }
   ],
   "source": [
    "model.summary()"
   ]
  },
  {
   "cell_type": "code",
   "execution_count": 12,
   "metadata": {},
   "outputs": [
    {
     "name": "stdout",
     "output_type": "stream",
     "text": [
      "Epoch 1/30\n"
     ]
    },
    {
     "name": "stderr",
     "output_type": "stream",
     "text": [
      "2022-05-21 14:29:52.378133: I tensorflow/stream_executor/cuda/cuda_dnn.cc:384] Loaded cuDNN version 8101\n"
     ]
    },
    {
     "name": "stdout",
     "output_type": "stream",
     "text": [
      "70/70 [==============================] - 70s 953ms/step - loss: 0.7320 - acc: 0.5275 - val_loss: 0.6947 - val_acc: 0.5142\n",
      "Epoch 2/30\n",
      "70/70 [==============================] - 69s 981ms/step - loss: 0.6984 - acc: 0.6051 - val_loss: 0.6992 - val_acc: 0.5437\n",
      "Epoch 3/30\n",
      "70/70 [==============================] - 68s 978ms/step - loss: 0.6052 - acc: 0.6927 - val_loss: 0.7037 - val_acc: 0.5883\n",
      "Epoch 4/30\n",
      "70/70 [==============================] - 72s 1s/step - loss: 0.5579 - acc: 0.7351 - val_loss: 0.5276 - val_acc: 0.7554\n",
      "Epoch 5/30\n",
      "70/70 [==============================] - 70s 1s/step - loss: 0.5128 - acc: 0.7711 - val_loss: 0.4222 - val_acc: 0.8133\n",
      "Epoch 6/30\n",
      "70/70 [==============================] - 69s 990ms/step - loss: 0.4923 - acc: 0.7747 - val_loss: 0.4519 - val_acc: 0.7979\n",
      "Epoch 7/30\n",
      "70/70 [==============================] - 69s 990ms/step - loss: 0.4807 - acc: 0.7911 - val_loss: 0.4287 - val_acc: 0.8192\n",
      "Epoch 8/30\n",
      "70/70 [==============================] - 69s 986ms/step - loss: 0.4566 - acc: 0.8143 - val_loss: 0.3646 - val_acc: 0.8438\n",
      "Epoch 9/30\n",
      "70/70 [==============================] - 70s 995ms/step - loss: 0.4301 - acc: 0.8071 - val_loss: 0.3107 - val_acc: 0.8788\n",
      "Epoch 10/30\n",
      "70/70 [==============================] - 69s 992ms/step - loss: 0.3883 - acc: 0.8313 - val_loss: 0.3656 - val_acc: 0.8375\n",
      "Epoch 11/30\n",
      "70/70 [==============================] - 69s 983ms/step - loss: 0.3977 - acc: 0.8324 - val_loss: 0.2689 - val_acc: 0.8946\n",
      "Epoch 12/30\n",
      "70/70 [==============================] - 69s 989ms/step - loss: 0.3557 - acc: 0.8530 - val_loss: 0.2744 - val_acc: 0.8958\n",
      "Epoch 13/30\n",
      "70/70 [==============================] - 70s 995ms/step - loss: 0.3259 - acc: 0.8729 - val_loss: 0.2480 - val_acc: 0.9100\n",
      "Epoch 14/30\n",
      "70/70 [==============================] - 69s 991ms/step - loss: 0.3380 - acc: 0.8524 - val_loss: 0.3357 - val_acc: 0.8621\n",
      "Epoch 15/30\n",
      "70/70 [==============================] - 68s 976ms/step - loss: 0.3065 - acc: 0.8759 - val_loss: 0.2167 - val_acc: 0.9183\n",
      "Epoch 16/30\n",
      "70/70 [==============================] - 69s 990ms/step - loss: 0.3161 - acc: 0.8726 - val_loss: 0.2045 - val_acc: 0.9217\n",
      "Epoch 17/30\n",
      "70/70 [==============================] - 70s 995ms/step - loss: 0.2742 - acc: 0.8964 - val_loss: 0.2472 - val_acc: 0.8996\n",
      "Epoch 18/30\n",
      "70/70 [==============================] - 70s 995ms/step - loss: 0.2902 - acc: 0.8815 - val_loss: 0.2616 - val_acc: 0.9004\n",
      "Epoch 19/30\n",
      "70/70 [==============================] - 70s 995ms/step - loss: 0.2875 - acc: 0.8801 - val_loss: 0.1795 - val_acc: 0.9325\n",
      "Epoch 20/30\n",
      "70/70 [==============================] - 70s 994ms/step - loss: 0.2294 - acc: 0.9116 - val_loss: 0.1785 - val_acc: 0.9354\n",
      "Epoch 21/30\n",
      "70/70 [==============================] - 69s 984ms/step - loss: 0.2429 - acc: 0.9119 - val_loss: 0.1643 - val_acc: 0.9388\n",
      "Epoch 22/30\n",
      "70/70 [==============================] - 69s 980ms/step - loss: 0.2498 - acc: 0.9006 - val_loss: 0.2087 - val_acc: 0.9287\n",
      "Epoch 23/30\n",
      "70/70 [==============================] - 68s 972ms/step - loss: 0.2417 - acc: 0.9051 - val_loss: 0.1763 - val_acc: 0.9396\n",
      "Epoch 24/30\n",
      "70/70 [==============================] - 68s 970ms/step - loss: 0.2231 - acc: 0.9140 - val_loss: 0.2645 - val_acc: 0.8804\n",
      "Epoch 25/30\n",
      "70/70 [==============================] - 68s 977ms/step - loss: 0.2290 - acc: 0.9167 - val_loss: 0.1754 - val_acc: 0.9354\n",
      "Epoch 26/30\n",
      "70/70 [==============================] - 69s 987ms/step - loss: 0.2099 - acc: 0.9167 - val_loss: 0.2058 - val_acc: 0.9333\n",
      "Epoch 27/30\n",
      "70/70 [==============================] - 68s 976ms/step - loss: 0.2175 - acc: 0.9155 - val_loss: 0.1544 - val_acc: 0.9362\n",
      "Epoch 28/30\n",
      "70/70 [==============================] - 69s 983ms/step - loss: 0.2015 - acc: 0.9190 - val_loss: 0.1453 - val_acc: 0.9433\n",
      "Epoch 29/30\n",
      "70/70 [==============================] - 69s 979ms/step - loss: 0.2129 - acc: 0.9170 - val_loss: 0.1707 - val_acc: 0.9367\n",
      "Epoch 30/30\n",
      "70/70 [==============================] - 69s 989ms/step - loss: 0.2240 - acc: 0.9152 - val_loss: 0.1764 - val_acc: 0.9362\n"
     ]
    }
   ],
   "source": [
    "history=model.fit(train_gen,\n",
    "                  steps_per_epoch=70,\n",
    "                  epochs=30,\n",
    "                  validation_data=valid_gen,\n",
    "                  validation_steps=50, \n",
    "                  verbose=1)"
   ]
  },
  {
   "cell_type": "code",
   "execution_count": 14,
   "metadata": {},
   "outputs": [
    {
     "name": "stdout",
     "output_type": "stream",
     "text": [
      "Model: \"sequential\"\n",
      "_________________________________________________________________\n",
      " Layer (type)                Output Shape              Param #   \n",
      "=================================================================\n",
      " conv2d (Conv2D)             (None, 248, 248, 32)      896       \n",
      "                                                                 \n",
      " max_pooling2d (MaxPooling2D  (None, 124, 124, 32)     0         \n",
      " )                                                               \n",
      "                                                                 \n",
      " conv2d_1 (Conv2D)           (None, 122, 122, 64)      18496     \n",
      "                                                                 \n",
      " max_pooling2d_1 (MaxPooling  (None, 61, 61, 64)       0         \n",
      " 2D)                                                             \n",
      "                                                                 \n",
      " conv2d_2 (Conv2D)           (None, 59, 59, 64)        36928     \n",
      "                                                                 \n",
      " max_pooling2d_2 (MaxPooling  (None, 29, 29, 64)       0         \n",
      " 2D)                                                             \n",
      "                                                                 \n",
      " conv2d_3 (Conv2D)           (None, 27, 27, 128)       73856     \n",
      "                                                                 \n",
      " max_pooling2d_3 (MaxPooling  (None, 13, 13, 128)      0         \n",
      " 2D)                                                             \n",
      "                                                                 \n",
      " conv2d_4 (Conv2D)           (None, 11, 11, 128)       147584    \n",
      "                                                                 \n",
      " max_pooling2d_4 (MaxPooling  (None, 5, 5, 128)        0         \n",
      " 2D)                                                             \n",
      "                                                                 \n",
      " flatten (Flatten)           (None, 3200)              0         \n",
      "                                                                 \n",
      " dense (Dense)               (None, 256)               819456    \n",
      "                                                                 \n",
      " dense_1 (Dense)             (None, 1)                 257       \n",
      "                                                                 \n",
      "=================================================================\n",
      "Total params: 1,097,473\n",
      "Trainable params: 1,097,473\n",
      "Non-trainable params: 0\n",
      "_________________________________________________________________\n"
     ]
    }
   ],
   "source": [
    "model.summary()"
   ]
  },
  {
   "cell_type": "code",
   "execution_count": 15,
   "metadata": {},
   "outputs": [],
   "source": [
    "# #save model to disk\n",
    "# model_json = model.to_json()\n",
    "# with open('model_custom.json', 'w') as json_file:\n",
    "#     json_file.write(model_json)\n",
    "# model.save_weights('model_custom') "
   ]
  },
  {
   "cell_type": "code",
   "execution_count": 17,
   "metadata": {},
   "outputs": [
    {
     "name": "stdout",
     "output_type": "stream",
     "text": [
      "243/243 [==============================] - 33s 137ms/step - loss: 0.1665 - acc: 0.9378\n",
      "\n",
      "Test result: 93.785 loss: 0.167\n"
     ]
    }
   ],
   "source": [
    "\n",
    "#testing\n",
    "scores = model.evaluate(valid_gen, batch_size=BATCH_SIZE, verbose=1)\n",
    "print('\\nTest result: %.3f loss: %.3f' % (scores[1]*100,scores[0]))"
   ]
  },
  {
   "cell_type": "code",
   "execution_count": 18,
   "metadata": {},
   "outputs": [
    {
     "data": {
      "text/plain": [
       "Text(0.5, 1.0, 'Loss Curves')"
      ]
     },
     "execution_count": 18,
     "metadata": {},
     "output_type": "execute_result"
    },
    {
     "data": {
      "image/png": "[encoded data removed]",
      "text/plain": [
       "<Figure size 576x432 with 1 Axes>"
      ]
     },
     "metadata": {
      "needs_background": "light"
     },
     "output_type": "display_data"
    }
   ],
   "source": [
    "plt.figure(figsize=[8,6])\n",
    "plt.plot(history.history['loss'],'r',linewidth=3.0)\n",
    "plt.plot(history.history['val_loss'],'b',linewidth=3.0)\n",
    "plt.legend(['Training loss', 'Validation Loss'],fontsize=18)\n",
    "plt.xlabel('Epochs ',fontsize=16)\n",
    "plt.ylabel('Loss',fontsize=16)\n",
    "plt.title('Loss Curves',fontsize=16)"
   ]
  },
  {
   "cell_type": "code",
   "execution_count": null,
   "metadata": {},
   "outputs": [],
   "source": []
  }
 ],
 "metadata": {
  "kernelspec": {
   "display_name": "py39_cuda102",
   "language": "python",
   "name": "py39_cuda102"
  },
  "language_info": {
   "codemirror_mode": {
    "name": "ipython",
    "version": 3
   },
   "file_extension": ".py",
   "mimetype": "text/x-python",
   "name": "python",
   "nbconvert_exporter": "python",
   "pygments_lexer": "ipython3",
   "version": "3.9.12"
  }
 },
 "nbformat": 4,
 "nbformat_minor": 4
}
