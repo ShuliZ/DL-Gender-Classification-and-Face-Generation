{
 "cells": [
  {
   "cell_type": "code",
   "execution_count": 1,
   "id": "aa5f5a65",
   "metadata": {},
   "outputs": [],
   "source": [
    "import os\n",
    "\n",
    "import pandas as pd\n",
    "import matplotlib.pyplot as plt\n",
    "from torch.utils.data import DataLoader\n",
    "import torchvision.transforms as transforms\n",
    "from torchvision.datasets import ImageFolder\n",
    "from keras.preprocessing.image import ImageDataGenerator"
   ]
  },
  {
   "cell_type": "markdown",
   "id": "c35a0f68",
   "metadata": {},
   "source": [
    "## Import the Dataset"
   ]
  },
  {
   "cell_type": "markdown",
   "id": "a9daec3f",
   "metadata": {},
   "source": [
    "Check the file path"
   ]
  },
  {
   "cell_type": "code",
   "execution_count": 2,
   "id": "7451d623",
   "metadata": {
    "scrolled": true
   },
   "outputs": [
    {
     "data": {
      "text/plain": [
       "'/Users/Ting/Documents/Ting Wang/NU - MSiA/432 Deep Learning/Project/MSiA-432-DeepLearning-Project/notebook'"
      ]
     },
     "execution_count": 2,
     "metadata": {},
     "output_type": "execute_result"
    }
   ],
   "source": [
    "pwd"
   ]
  },
  {
   "cell_type": "code",
   "execution_count": 3,
   "id": "10316378",
   "metadata": {},
   "outputs": [
    {
     "name": "stdout",
     "output_type": "stream",
     "text": [
      "['.DS_Store', 'Training', 'Validation']\n"
     ]
    }
   ],
   "source": [
    "# Training and Validation datasets\n",
    "data_dict = '/Users/Ting/Documents/Ting Wang/NU - MSiA/432 Deep Learning/Project/MSiA-432-DeepLearning-Project/data/archive' \n",
    "print(os.listdir(data_dict))"
   ]
  },
  {
   "cell_type": "code",
   "execution_count": 4,
   "id": "85db6b13",
   "metadata": {},
   "outputs": [
    {
     "name": "stdout",
     "output_type": "stream",
     "text": [
      "['.DS_Store', 'male', 'female']\n"
     ]
    }
   ],
   "source": [
    "# Classes within the training dataset\n",
    "classes = os.listdir(data_dict + \"/Training\")\n",
    "print(classes)"
   ]
  },
  {
   "cell_type": "code",
   "execution_count": 5,
   "id": "e9b72939",
   "metadata": {},
   "outputs": [
    {
     "name": "stdout",
     "output_type": "stream",
     "text": [
      "No. of training examples of male: 23766\n",
      "['194560.jpg.jpg', '186101.jpg.jpg', '098916.jpg.jpg', '179163.jpg.jpg', '169362.jpg.jpg']\n"
     ]
    }
   ],
   "source": [
    "# Images for male training dataset\n",
    "male_images = os.listdir(data_dict + \"/Training/male\")\n",
    "print('No. of training examples of male:', len(male_images))\n",
    "print(male_images[:5])"
   ]
  },
  {
   "cell_type": "code",
   "execution_count": 6,
   "id": "1a26674f",
   "metadata": {},
   "outputs": [
    {
     "name": "stdout",
     "output_type": "stream",
     "text": [
      "No. of training examples for female: 23243\n",
      "['134308.jpg.jpg', '166908.jpg.jpg', '181147.jpg.jpg', '136568.jpg.jpg', '184761.jpg.jpg']\n"
     ]
    }
   ],
   "source": [
    "# Images for female training dataset\n",
    "female_images = os.listdir(data_dict + \"/Training/female\")\n",
    "print('No. of training examples for female:', len(female_images))\n",
    "print(female_images[:5])"
   ]
  },
  {
   "cell_type": "markdown",
   "id": "1aef22dd",
   "metadata": {},
   "source": [
    "Load the training dataset"
   ]
  },
  {
   "cell_type": "code",
   "execution_count": 7,
   "id": "a8785f32",
   "metadata": {},
   "outputs": [],
   "source": [
    "transform_face = transforms.Compose([\n",
    "        #transforms.ToPILImage(),\n",
    "        transforms.Resize([64,64]),\n",
    "        transforms.ToTensor(),\n",
    "])\n",
    "\n",
    "train_ds = ImageFolder(data_dict+'/Training', transform=transform_face)"
   ]
  },
  {
   "cell_type": "code",
   "execution_count": 8,
   "id": "53ec80f3",
   "metadata": {},
   "outputs": [
    {
     "name": "stdout",
     "output_type": "stream",
     "text": [
      "torch.Size([3, 64, 64]) 0\n"
     ]
    },
    {
     "data": {
      "text/plain": [
       "tensor([[[0.1451, 0.1490, 0.1490,  ..., 0.2392, 0.2157, 0.2118],\n",
       "         [0.1216, 0.1255, 0.1373,  ..., 0.2627, 0.2392, 0.2471],\n",
       "         [0.1137, 0.0980, 0.1176,  ..., 0.2000, 0.2667, 0.2549],\n",
       "         ...,\n",
       "         [0.0667, 0.0510, 0.0353,  ..., 0.0784, 0.0353, 0.0431],\n",
       "         [0.0588, 0.0431, 0.0392,  ..., 0.0392, 0.0549, 0.0784],\n",
       "         [0.0549, 0.0353, 0.0196,  ..., 0.0667, 0.0706, 0.0588]],\n",
       "\n",
       "        [[0.1451, 0.1490, 0.1490,  ..., 0.2392, 0.2157, 0.2118],\n",
       "         [0.1216, 0.1255, 0.1373,  ..., 0.2627, 0.2392, 0.2471],\n",
       "         [0.1137, 0.0980, 0.1176,  ..., 0.2000, 0.2667, 0.2549],\n",
       "         ...,\n",
       "         [0.0902, 0.0706, 0.0510,  ..., 0.0784, 0.0392, 0.0471],\n",
       "         [0.0980, 0.0706, 0.0510,  ..., 0.0392, 0.0627, 0.0824],\n",
       "         [0.0863, 0.0588, 0.0353,  ..., 0.0667, 0.0745, 0.0588]],\n",
       "\n",
       "        [[0.1373, 0.1412, 0.1412,  ..., 0.2471, 0.2235, 0.2196],\n",
       "         [0.1137, 0.1176, 0.1294,  ..., 0.2706, 0.2471, 0.2549],\n",
       "         [0.1059, 0.0902, 0.1098,  ..., 0.2000, 0.2706, 0.2588],\n",
       "         ...,\n",
       "         [0.0745, 0.0549, 0.0314,  ..., 0.0784, 0.0392, 0.0471],\n",
       "         [0.0627, 0.0392, 0.0314,  ..., 0.0392, 0.0588, 0.0824],\n",
       "         [0.0431, 0.0235, 0.0118,  ..., 0.0706, 0.0784, 0.0667]]])"
      ]
     },
     "execution_count": 8,
     "metadata": {},
     "output_type": "execute_result"
    }
   ],
   "source": [
    "img, label = train_ds[0]\n",
    "print(img.shape, label)\n",
    "img"
   ]
  },
  {
   "cell_type": "code",
   "execution_count": 9,
   "id": "bb0c3f5d",
   "metadata": {},
   "outputs": [
    {
     "name": "stdout",
     "output_type": "stream",
     "text": [
      "['female', 'male']\n"
     ]
    }
   ],
   "source": [
    "print(train_ds.classes)"
   ]
  },
  {
   "cell_type": "code",
   "execution_count": 10,
   "id": "d0ca14fd",
   "metadata": {},
   "outputs": [],
   "source": [
    "def show_example(img, label):\n",
    "    print('Label: ', train_ds.classes[label], \"(\"+str(label)+\")\")\n",
    "    plt.imshow(img.permute(1, 2, 0))"
   ]
  },
  {
   "cell_type": "code",
   "execution_count": 11,
   "id": "78aca50e",
   "metadata": {
    "scrolled": true
   },
   "outputs": [
    {
     "name": "stdout",
     "output_type": "stream",
     "text": [
      "Label:  female (0)\n"
     ]
    },
    {
     "data": {
      "image/png": "[encoded data removed]",
      "text/plain": [
       "<Figure size 432x288 with 1 Axes>"
      ]
     },
     "metadata": {
      "needs_background": "light"
     },
     "output_type": "display_data"
    }
   ],
   "source": [
    "show_example(*train_ds[0])"
   ]
  },
  {
   "cell_type": "markdown",
   "id": "f14b055e",
   "metadata": {},
   "source": [
    "Load the validation dataset"
   ]
  },
  {
   "cell_type": "code",
   "execution_count": 12,
   "id": "e46a1e73",
   "metadata": {},
   "outputs": [],
   "source": [
    "val_ds = ImageFolder(data_dict+'/Validation', transform=transform_face)"
   ]
  },
  {
   "cell_type": "code",
   "execution_count": 13,
   "id": "83461ea4",
   "metadata": {
    "scrolled": true
   },
   "outputs": [
    {
     "name": "stdout",
     "output_type": "stream",
     "text": [
      "Label:  female (0)\n"
     ]
    },
    {
     "data": {
      "image/png": "[encoded data removed]",
      "text/plain": [
       "<Figure size 432x288 with 1 Axes>"
      ]
     },
     "metadata": {
      "needs_background": "light"
     },
     "output_type": "display_data"
    }
   ],
   "source": [
    "show_example(*val_ds[0])"
   ]
  },
  {
   "cell_type": "markdown",
   "id": "c2a7d266",
   "metadata": {},
   "source": [
    "Create data loaders to load the data in batches"
   ]
  },
  {
   "cell_type": "code",
   "execution_count": 14,
   "id": "0b225819",
   "metadata": {},
   "outputs": [],
   "source": [
    "batch_size = 50\n",
    "train_dl = DataLoader(train_ds, batch_size, shuffle=True, num_workers=4, pin_memory=True)\n",
    "val_dl = DataLoader(val_ds, batch_size*2, num_workers=4, pin_memory=True)"
   ]
  },
  {
   "cell_type": "markdown",
   "id": "2967d3a0",
   "metadata": {},
   "source": [
    "## Use keras.preprocessing to load the images"
   ]
  },
  {
   "cell_type": "code",
   "execution_count": 15,
   "id": "7dc30e46",
   "metadata": {},
   "outputs": [],
   "source": [
    "train_datagen = ImageDataGenerator(rescale=1./255, validation_split=0.2)"
   ]
  },
  {
   "cell_type": "code",
   "execution_count": 19,
   "id": "03191a9c",
   "metadata": {},
   "outputs": [
    {
     "name": "stdout",
     "output_type": "stream",
     "text": [
      "Found 46928 images belonging to 2 classes.\n"
     ]
    }
   ],
   "source": [
    "train_generator = train_datagen.flow_from_directory(\n",
    "data_dict, \n",
    "target_size=(256,256), \n",
    "color_mode='rgb', \n",
    "batch_size=64, \n",
    "class_mode='categorical', \n",
    "subset='training',\n",
    "shuffle=True,\n",
    "seed=42\n",
    ")\n"
   ]
  },
  {
   "cell_type": "code",
   "execution_count": 24,
   "id": "ded1bbd8",
   "metadata": {},
   "outputs": [
    {
     "data": {
      "text/plain": [
       "(array([[[[0.69803923, 0.5803922 , 0.4784314 ],\n",
       "          [0.69803923, 0.5803922 , 0.4784314 ],\n",
       "          [0.69803923, 0.5803922 , 0.4784314 ],\n",
       "          ...,\n",
       "          [0.7372549 , 0.48627454, 0.24705884],\n",
       "          [0.7372549 , 0.48627454, 0.24705884],\n",
       "          [0.7372549 , 0.48627454, 0.24705884]],\n",
       " \n",
       "         [[0.69803923, 0.5803922 , 0.4784314 ],\n",
       "          [0.69803923, 0.5803922 , 0.4784314 ],\n",
       "          [0.69803923, 0.5803922 , 0.4784314 ],\n",
       "          ...,\n",
       "          [0.7372549 , 0.48627454, 0.24705884],\n",
       "          [0.7372549 , 0.48627454, 0.24705884],\n",
       "          [0.7372549 , 0.48627454, 0.24705884]],\n",
       " \n",
       "         [[0.7019608 , 0.58431375, 0.48235297],\n",
       "          [0.7019608 , 0.58431375, 0.48235297],\n",
       "          [0.7019608 , 0.58431375, 0.48235297],\n",
       "          ...,\n",
       "          [0.7372549 , 0.48627454, 0.24705884],\n",
       "          [0.7372549 , 0.48627454, 0.24705884],\n",
       "          [0.7372549 , 0.48627454, 0.24705884]],\n",
       " \n",
       "         ...,\n",
       " \n",
       "         [[0.        , 0.        , 0.        ],\n",
       "          [0.        , 0.        , 0.        ],\n",
       "          [0.        , 0.        , 0.        ],\n",
       "          ...,\n",
       "          [0.8941177 , 0.8470589 , 0.7607844 ],\n",
       "          [0.8941177 , 0.8470589 , 0.7607844 ],\n",
       "          [0.8941177 , 0.8470589 , 0.7607844 ]],\n",
       " \n",
       "         [[0.        , 0.        , 0.        ],\n",
       "          [0.        , 0.        , 0.        ],\n",
       "          [0.        , 0.        , 0.        ],\n",
       "          ...,\n",
       "          [0.8941177 , 0.8470589 , 0.75294125],\n",
       "          [0.8941177 , 0.8470589 , 0.75294125],\n",
       "          [0.8941177 , 0.8470589 , 0.75294125]],\n",
       " \n",
       "         [[0.        , 0.        , 0.        ],\n",
       "          [0.        , 0.        , 0.        ],\n",
       "          [0.        , 0.        , 0.        ],\n",
       "          ...,\n",
       "          [0.8941177 , 0.8470589 , 0.75294125],\n",
       "          [0.8941177 , 0.8470589 , 0.75294125],\n",
       "          [0.8941177 , 0.8470589 , 0.75294125]]],\n",
       " \n",
       " \n",
       "        [[[0.6313726 , 0.47450984, 0.27450982],\n",
       "          [0.6313726 , 0.47450984, 0.27450982],\n",
       "          [0.6313726 , 0.47450984, 0.27450982],\n",
       "          ...,\n",
       "          [0.6862745 , 0.5921569 , 0.41960788],\n",
       "          [0.6862745 , 0.5921569 , 0.41960788],\n",
       "          [0.6862745 , 0.5921569 , 0.41960788]],\n",
       " \n",
       "         [[0.6313726 , 0.47450984, 0.27450982],\n",
       "          [0.6313726 , 0.47450984, 0.27450982],\n",
       "          [0.6313726 , 0.47450984, 0.27450982],\n",
       "          ...,\n",
       "          [0.6862745 , 0.5921569 , 0.41960788],\n",
       "          [0.6862745 , 0.5921569 , 0.41960788],\n",
       "          [0.6862745 , 0.5921569 , 0.41960788]],\n",
       " \n",
       "         [[0.63529414, 0.4784314 , 0.28627452],\n",
       "          [0.63529414, 0.4784314 , 0.28627452],\n",
       "          [0.63529414, 0.4784314 , 0.28627452],\n",
       "          ...,\n",
       "          [0.69803923, 0.6039216 , 0.43137258],\n",
       "          [0.69803923, 0.6039216 , 0.43137258],\n",
       "          [0.69803923, 0.6039216 , 0.43137258]],\n",
       " \n",
       "         ...,\n",
       " \n",
       "         [[0.8196079 , 0.69803923, 0.72156864],\n",
       "          [0.8196079 , 0.69803923, 0.72156864],\n",
       "          [0.8196079 , 0.69803923, 0.72156864],\n",
       "          ...,\n",
       "          [0.18823531, 0.1254902 , 0.07450981],\n",
       "          [0.18823531, 0.1254902 , 0.07450981],\n",
       "          [0.18823531, 0.1254902 , 0.07450981]],\n",
       " \n",
       "         [[0.81568635, 0.69411767, 0.7176471 ],\n",
       "          [0.81568635, 0.69411767, 0.7176471 ],\n",
       "          [0.81568635, 0.69411767, 0.7176471 ],\n",
       "          ...,\n",
       "          [0.17254902, 0.10980393, 0.05882353],\n",
       "          [0.17254902, 0.10980393, 0.05882353],\n",
       "          [0.17254902, 0.10980393, 0.05882353]],\n",
       " \n",
       "         [[0.81568635, 0.69411767, 0.7176471 ],\n",
       "          [0.81568635, 0.69411767, 0.7176471 ],\n",
       "          [0.81568635, 0.69411767, 0.7176471 ],\n",
       "          ...,\n",
       "          [0.17254902, 0.10980393, 0.05882353],\n",
       "          [0.17254902, 0.10980393, 0.05882353],\n",
       "          [0.17254902, 0.10980393, 0.05882353]]],\n",
       " \n",
       " \n",
       "        [[[0.1137255 , 0.07450981, 0.03921569],\n",
       "          [0.1137255 , 0.07450981, 0.03921569],\n",
       "          [0.1137255 , 0.07450981, 0.03921569],\n",
       "          ...,\n",
       "          [0.3529412 , 0.23529413, 0.1254902 ],\n",
       "          [0.3529412 , 0.23529413, 0.1254902 ],\n",
       "          [0.3529412 , 0.23529413, 0.1254902 ]],\n",
       " \n",
       "         [[0.1137255 , 0.07450981, 0.03921569],\n",
       "          [0.1137255 , 0.07450981, 0.03921569],\n",
       "          [0.1137255 , 0.07450981, 0.03921569],\n",
       "          ...,\n",
       "          [0.3529412 , 0.23529413, 0.1254902 ],\n",
       "          [0.3529412 , 0.23529413, 0.1254902 ],\n",
       "          [0.3529412 , 0.23529413, 0.1254902 ]],\n",
       " \n",
       "         [[0.1137255 , 0.07058824, 0.04705883],\n",
       "          [0.1137255 , 0.07058824, 0.04705883],\n",
       "          [0.1137255 , 0.07058824, 0.04705883],\n",
       "          ...,\n",
       "          [0.35686275, 0.2392157 , 0.12941177],\n",
       "          [0.35686275, 0.2392157 , 0.12941177],\n",
       "          [0.35686275, 0.2392157 , 0.12941177]],\n",
       " \n",
       "         ...,\n",
       " \n",
       "         [[0.12941177, 0.0627451 , 0.        ],\n",
       "          [0.12941177, 0.0627451 , 0.        ],\n",
       "          [0.12941177, 0.0627451 , 0.        ],\n",
       "          ...,\n",
       "          [0.07058824, 0.01960784, 0.        ],\n",
       "          [0.07058824, 0.01960784, 0.        ],\n",
       "          [0.07058824, 0.01960784, 0.        ]],\n",
       " \n",
       "         [[0.14117648, 0.07450981, 0.01176471],\n",
       "          [0.14117648, 0.07450981, 0.01176471],\n",
       "          [0.14117648, 0.07450981, 0.01176471],\n",
       "          ...,\n",
       "          [0.08235294, 0.02745098, 0.01568628],\n",
       "          [0.08235294, 0.02745098, 0.01568628],\n",
       "          [0.08235294, 0.02745098, 0.01568628]],\n",
       " \n",
       "         [[0.14117648, 0.07450981, 0.01176471],\n",
       "          [0.14117648, 0.07450981, 0.01176471],\n",
       "          [0.14117648, 0.07450981, 0.01176471],\n",
       "          ...,\n",
       "          [0.08235294, 0.02745098, 0.01568628],\n",
       "          [0.08235294, 0.02745098, 0.01568628],\n",
       "          [0.08235294, 0.02745098, 0.01568628]]],\n",
       " \n",
       " \n",
       "        ...,\n",
       " \n",
       " \n",
       "        [[[0.52156866, 0.34509805, 0.27058825],\n",
       "          [0.52156866, 0.34509805, 0.27058825],\n",
       "          [0.52156866, 0.34509805, 0.27058825],\n",
       "          ...,\n",
       "          [0.3921569 , 0.31764707, 0.29411766],\n",
       "          [0.3921569 , 0.31764707, 0.29411766],\n",
       "          [0.3921569 , 0.31764707, 0.29411766]],\n",
       " \n",
       "         [[0.52156866, 0.34509805, 0.27058825],\n",
       "          [0.52156866, 0.34509805, 0.27058825],\n",
       "          [0.52156866, 0.34509805, 0.27058825],\n",
       "          ...,\n",
       "          [0.3921569 , 0.31764707, 0.29411766],\n",
       "          [0.3921569 , 0.31764707, 0.29411766],\n",
       "          [0.3921569 , 0.31764707, 0.29411766]],\n",
       " \n",
       "         [[0.5647059 , 0.38823533, 0.3137255 ],\n",
       "          [0.5647059 , 0.38823533, 0.3137255 ],\n",
       "          [0.5647059 , 0.38823533, 0.3137255 ],\n",
       "          ...,\n",
       "          [0.34901962, 0.27450982, 0.2509804 ],\n",
       "          [0.34901962, 0.27450982, 0.2509804 ],\n",
       "          [0.34901962, 0.27450982, 0.2509804 ]],\n",
       " \n",
       "         ...,\n",
       " \n",
       "         [[0.9843138 , 0.9725491 , 0.91372555],\n",
       "          [0.9843138 , 0.9725491 , 0.91372555],\n",
       "          [0.9843138 , 0.9725491 , 0.91372555],\n",
       "          ...,\n",
       "          [0.98823535, 0.9960785 , 0.9921569 ],\n",
       "          [0.98823535, 0.9960785 , 0.9921569 ],\n",
       "          [0.98823535, 0.9960785 , 0.9921569 ]],\n",
       " \n",
       "         [[1.        , 1.        , 0.94117653],\n",
       "          [1.        , 1.        , 0.94117653],\n",
       "          [1.        , 1.        , 0.94117653],\n",
       "          ...,\n",
       "          [0.98823535, 0.9960785 , 0.9921569 ],\n",
       "          [0.98823535, 0.9960785 , 0.9921569 ],\n",
       "          [0.98823535, 0.9960785 , 0.9921569 ]],\n",
       " \n",
       "         [[1.        , 1.        , 0.94117653],\n",
       "          [1.        , 1.        , 0.94117653],\n",
       "          [1.        , 1.        , 0.94117653],\n",
       "          ...,\n",
       "          [0.98823535, 0.9960785 , 0.9921569 ],\n",
       "          [0.98823535, 0.9960785 , 0.9921569 ],\n",
       "          [0.98823535, 0.9960785 , 0.9921569 ]]],\n",
       " \n",
       " \n",
       "        [[[0.96470594, 0.9215687 , 0.93725497],\n",
       "          [0.96470594, 0.9215687 , 0.93725497],\n",
       "          [0.96470594, 0.9215687 , 0.93725497],\n",
       "          ...,\n",
       "          [0.9843138 , 0.9333334 , 0.9725491 ],\n",
       "          [0.9843138 , 0.9333334 , 0.9725491 ],\n",
       "          [0.9843138 , 0.9333334 , 0.9725491 ]],\n",
       " \n",
       "         [[0.96470594, 0.9215687 , 0.93725497],\n",
       "          [0.96470594, 0.9215687 , 0.93725497],\n",
       "          [0.96470594, 0.9215687 , 0.93725497],\n",
       "          ...,\n",
       "          [0.9843138 , 0.9333334 , 0.9725491 ],\n",
       "          [0.9843138 , 0.9333334 , 0.9725491 ],\n",
       "          [0.9843138 , 0.9333334 , 0.9725491 ]],\n",
       " \n",
       "         [[0.98823535, 0.9450981 , 0.9607844 ],\n",
       "          [0.98823535, 0.9450981 , 0.9607844 ],\n",
       "          [0.98823535, 0.9450981 , 0.9607844 ],\n",
       "          ...,\n",
       "          [0.9921569 , 0.94117653, 0.9803922 ],\n",
       "          [0.9921569 , 0.94117653, 0.9803922 ],\n",
       "          [0.9921569 , 0.94117653, 0.9803922 ]],\n",
       " \n",
       "         ...,\n",
       " \n",
       "         [[0.92549026, 0.9176471 , 0.8705883 ],\n",
       "          [0.92549026, 0.9176471 , 0.8705883 ],\n",
       "          [0.92549026, 0.9176471 , 0.8705883 ],\n",
       "          ...,\n",
       "          [0.5372549 , 0.3372549 , 0.27058825],\n",
       "          [0.5372549 , 0.3372549 , 0.27058825],\n",
       "          [0.5372549 , 0.3372549 , 0.27058825]],\n",
       " \n",
       "         [[0.92549026, 0.9176471 , 0.8705883 ],\n",
       "          [0.92549026, 0.9176471 , 0.8705883 ],\n",
       "          [0.92549026, 0.9176471 , 0.8705883 ],\n",
       "          ...,\n",
       "          [0.5372549 , 0.3372549 , 0.27058825],\n",
       "          [0.5372549 , 0.3372549 , 0.27058825],\n",
       "          [0.5372549 , 0.3372549 , 0.27058825]],\n",
       " \n",
       "         [[0.92549026, 0.9176471 , 0.8705883 ],\n",
       "          [0.92549026, 0.9176471 , 0.8705883 ],\n",
       "          [0.92549026, 0.9176471 , 0.8705883 ],\n",
       "          ...,\n",
       "          [0.5372549 , 0.3372549 , 0.27058825],\n",
       "          [0.5372549 , 0.3372549 , 0.27058825],\n",
       "          [0.5372549 , 0.3372549 , 0.27058825]]],\n",
       " \n",
       " \n",
       "        [[[0.8705883 , 0.8352942 , 0.8000001 ],\n",
       "          [0.8705883 , 0.8352942 , 0.8000001 ],\n",
       "          [0.8705883 , 0.8352942 , 0.8000001 ],\n",
       "          ...,\n",
       "          [0.86274517, 0.83921576, 0.75294125],\n",
       "          [0.86274517, 0.83921576, 0.75294125],\n",
       "          [0.86274517, 0.83921576, 0.75294125]],\n",
       " \n",
       "         [[0.8705883 , 0.8352942 , 0.8000001 ],\n",
       "          [0.8705883 , 0.8352942 , 0.8000001 ],\n",
       "          [0.8705883 , 0.8352942 , 0.8000001 ],\n",
       "          ...,\n",
       "          [0.86274517, 0.83921576, 0.75294125],\n",
       "          [0.86274517, 0.83921576, 0.75294125],\n",
       "          [0.86274517, 0.83921576, 0.75294125]],\n",
       " \n",
       "         [[0.8745099 , 0.8352942 , 0.8000001 ],\n",
       "          [0.8745099 , 0.8352942 , 0.8000001 ],\n",
       "          [0.8745099 , 0.8352942 , 0.8000001 ],\n",
       "          ...,\n",
       "          [0.9215687 , 0.90196085, 0.8235295 ],\n",
       "          [0.9215687 , 0.90196085, 0.8235295 ],\n",
       "          [0.9215687 , 0.90196085, 0.8235295 ]],\n",
       " \n",
       "         ...,\n",
       " \n",
       "         [[0.8941177 , 0.909804  , 0.9568628 ],\n",
       "          [0.8941177 , 0.909804  , 0.9568628 ],\n",
       "          [0.8941177 , 0.909804  , 0.9568628 ],\n",
       "          ...,\n",
       "          [0.5137255 , 0.6039216 , 0.24705884],\n",
       "          [0.5137255 , 0.6039216 , 0.24705884],\n",
       "          [0.5137255 , 0.6039216 , 0.24705884]],\n",
       " \n",
       "         [[0.8941177 , 0.909804  , 0.9568628 ],\n",
       "          [0.8941177 , 0.909804  , 0.9568628 ],\n",
       "          [0.8941177 , 0.909804  , 0.9568628 ],\n",
       "          ...,\n",
       "          [0.5176471 , 0.60784316, 0.2509804 ],\n",
       "          [0.5176471 , 0.60784316, 0.2509804 ],\n",
       "          [0.5176471 , 0.60784316, 0.2509804 ]],\n",
       " \n",
       "         [[0.8941177 , 0.909804  , 0.9568628 ],\n",
       "          [0.8941177 , 0.909804  , 0.9568628 ],\n",
       "          [0.8941177 , 0.909804  , 0.9568628 ],\n",
       "          ...,\n",
       "          [0.5176471 , 0.60784316, 0.2509804 ],\n",
       "          [0.5176471 , 0.60784316, 0.2509804 ],\n",
       "          [0.5176471 , 0.60784316, 0.2509804 ]]]], dtype=float32),\n",
       " array([[1., 0.],\n",
       "        [1., 0.],\n",
       "        [1., 0.],\n",
       "        [1., 0.],\n",
       "        [1., 0.],\n",
       "        [1., 0.],\n",
       "        [0., 1.],\n",
       "        [1., 0.],\n",
       "        [0., 1.],\n",
       "        [1., 0.],\n",
       "        [0., 1.],\n",
       "        [1., 0.],\n",
       "        [1., 0.],\n",
       "        [1., 0.],\n",
       "        [0., 1.],\n",
       "        [1., 0.],\n",
       "        [1., 0.],\n",
       "        [1., 0.],\n",
       "        [1., 0.],\n",
       "        [0., 1.],\n",
       "        [1., 0.],\n",
       "        [0., 1.],\n",
       "        [1., 0.],\n",
       "        [1., 0.],\n",
       "        [1., 0.],\n",
       "        [1., 0.],\n",
       "        [1., 0.],\n",
       "        [1., 0.],\n",
       "        [0., 1.],\n",
       "        [1., 0.],\n",
       "        [1., 0.],\n",
       "        [1., 0.],\n",
       "        [0., 1.],\n",
       "        [1., 0.],\n",
       "        [1., 0.],\n",
       "        [1., 0.],\n",
       "        [1., 0.],\n",
       "        [1., 0.],\n",
       "        [1., 0.],\n",
       "        [1., 0.],\n",
       "        [1., 0.],\n",
       "        [0., 1.],\n",
       "        [1., 0.],\n",
       "        [1., 0.],\n",
       "        [1., 0.],\n",
       "        [1., 0.],\n",
       "        [1., 0.],\n",
       "        [1., 0.],\n",
       "        [1., 0.],\n",
       "        [1., 0.],\n",
       "        [1., 0.],\n",
       "        [1., 0.],\n",
       "        [1., 0.],\n",
       "        [1., 0.],\n",
       "        [1., 0.],\n",
       "        [1., 0.],\n",
       "        [1., 0.],\n",
       "        [1., 0.],\n",
       "        [1., 0.],\n",
       "        [1., 0.],\n",
       "        [1., 0.],\n",
       "        [0., 1.],\n",
       "        [1., 0.],\n",
       "        [1., 0.]], dtype=float32))"
      ]
     },
     "execution_count": 24,
     "metadata": {},
     "output_type": "execute_result"
    }
   ],
   "source": [
    "train_generator[0]"
   ]
  },
  {
   "cell_type": "code",
   "execution_count": null,
   "id": "d57429c1",
   "metadata": {},
   "outputs": [],
   "source": []
  }
 ],
 "metadata": {
  "kernelspec": {
   "display_name": "Python 3",
   "language": "python",
   "name": "python3"
  },
  "language_info": {
   "codemirror_mode": {
    "name": "ipython",
    "version": 3
   },
   "file_extension": ".py",
   "mimetype": "text/x-python",
   "name": "python",
   "nbconvert_exporter": "python",
   "pygments_lexer": "ipython3",
   "version": "3.8.8"
  }
 },
 "nbformat": 4,
 "nbformat_minor": 5
}
