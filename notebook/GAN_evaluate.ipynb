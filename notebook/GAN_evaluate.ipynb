{
  "nbformat": 4,
  "nbformat_minor": 0,
  "metadata": {
    "colab": {
      "name": "GAN_evaluate.ipynb",
      "provenance": [],
      "collapsed_sections": [],
      "machine_shape": "hm"
    },
    "kernelspec": {
      "name": "python3",
      "display_name": "Python 3"
    },
    "language_info": {
      "name": "python"
    },
    "accelerator": "GPU"
  },
  "cells": [
    {
      "cell_type": "code",
      "execution_count": 1,
      "metadata": {
        "id": "ErbLhBuo1LH9"
      },
      "outputs": [],
      "source": [
        "# example of calculating the frechet inception distance in Keras\n",
        "import numpy\n",
        "import os\n",
        "from numpy import cov\n",
        "from numpy import trace\n",
        "from numpy import iscomplexobj\n",
        "from numpy import asarray\n",
        "from numpy.random import randint\n",
        "from scipy.linalg import sqrtm\n",
        "from tensorflow.keras.preprocessing import image_dataset_from_directory\n",
        "from keras.applications.inception_v3 import InceptionV3\n",
        "from keras.applications.inception_v3 import preprocess_input\n",
        "from keras.datasets.mnist import load_data\n",
        "from skimage.transform import resize\n",
        "import matplotlib.pyplot as plt\n",
        "from keras.datasets import cifar10\n",
        "from numpy.random import shuffle\n",
        "from google.colab import drive"
      ]
    },
    {
      "cell_type": "code",
      "source": [
        "def get_unbatched_img(path, image_size, batch_size):\n",
        "  input = os.path.join(PATH, path)\n",
        "  img = image_dataset_from_directory(\n",
        "    input, label_mode=None, image_size=image_size, batch_size=batch_size)\n",
        "  unbatched = img.unbatch()\n",
        "  unbatched = list(unbatched.map(lambda x: x))\n",
        "  unbatched = [x.numpy().astype('float32') for x in unbatched]\n",
        "  return unbatched\n",
        "  \n",
        "# scale an array of images to a new size\n",
        "def scale_images(images, new_shape):\n",
        "\timages_list = list()\n",
        "\tfor image in images:\n",
        "\t\t# resize with nearest neighbor interpolation\n",
        "\t\tnew_image = resize(image, new_shape, 0)\n",
        "\t\t# store\n",
        "\t\timages_list.append(new_image)\n",
        "\treturn asarray(images_list)\n",
        " \n",
        "# calculate frechet inception distance\n",
        "def calculate_fid(model, images1, images2):\n",
        "\t# calculate activations\n",
        "\tact1 = model.predict(images1)\n",
        "\tact2 = model.predict(images2)\n",
        "\t# calculate mean and covariance statistics\n",
        "\tmu1, sigma1 = act1.mean(axis=0), cov(act1, rowvar=False)\n",
        "\tmu2, sigma2 = act2.mean(axis=0), cov(act2, rowvar=False)\n",
        "\t# calculate sum squared difference between means\n",
        "\tssdiff = numpy.sum((mu1 - mu2)**2.0)\n",
        "\t# calculate sqrt of product between cov\n",
        "\tcovmean = sqrtm(sigma1.dot(sigma2))\n",
        "\t# check and correct imaginary numbers from sqrt\n",
        "\tif iscomplexobj(covmean):\n",
        "\t\tcovmean = covmean.real\n",
        "\t# calculate score\n",
        "\tfid = ssdiff + trace(sigma1 + sigma2 - 2.0 * covmean)\n",
        "\treturn fid\n",
        "\n",
        "def run(real_path, gan_path, image_size=(64, 64), batch_size=32):\n",
        "  unbatch_real = get_unbatched_img(real_path, image_size, batch_size)\n",
        "  unbatch_gan = get_unbatched_img(gan_path, image_size, batch_size)\n",
        "  # resize images\n",
        "  images1 = scale_images(unbatch_real, (299,299,3))\n",
        "  images2 = scale_images(unbatch_gan, (299,299,3))\n",
        "  # pre-process images\n",
        "  images1 = preprocess_input(images1)\n",
        "  images2 = preprocess_input(images2)\n",
        "  # model\n",
        "  model = InceptionV3(include_top=False, pooling='avg', input_shape=(299,299,3))\n",
        "  # calculate fid\n",
        "  fid = calculate_fid(model, images1, images2)\n",
        "  print('FID: %.3f' % fid)\n",
        "  return fid"
      ],
      "metadata": {
        "id": "JWZPEJYMmRFD"
      },
      "execution_count": 2,
      "outputs": []
    },
    {
      "cell_type": "code",
      "source": [
        "drive.mount('/content/drive')\n",
        "PATH = \"/content/drive/MyDrive/Deep_Learning_Project/\""
      ],
      "metadata": {
        "colab": {
          "base_uri": "https://localhost:8080/"
        },
        "id": "QH1Dy9pZmN2m",
        "outputId": "8c35bf88-218c-43e5-b4de-ef57529b5f67"
      },
      "execution_count": 3,
      "outputs": [
        {
          "output_type": "stream",
          "name": "stdout",
          "text": [
            "Drive already mounted at /content/drive; to attempt to forcibly remount, call drive.mount(\"/content/drive\", force_remount=True).\n"
          ]
        }
      ]
    },
    {
      "cell_type": "code",
      "source": [
        "result_dcgan = []\n",
        "\n",
        "for i in [0, 2, 15, 30, 50, 99]:\n",
        "  gan_path = 'Evaluation_fake/DCGAN/epoch_' + str(i)\n",
        "  result_dcgan.append(run('Evaluation_real', gan_path))"
      ],
      "metadata": {
        "colab": {
          "base_uri": "https://localhost:8080/"
        },
        "id": "Ui9I3WlPnRY1",
        "outputId": "864a3eac-790f-456f-985d-74528a002a95"
      },
      "execution_count": 4,
      "outputs": [
        {
          "output_type": "stream",
          "name": "stdout",
          "text": [
            "Found 9 files belonging to 1 classes.\n",
            "Found 10 files belonging to 1 classes.\n",
            "FID: 426.055\n",
            "Found 9 files belonging to 1 classes.\n",
            "Found 10 files belonging to 1 classes.\n",
            "FID: 470.330\n",
            "Found 9 files belonging to 1 classes.\n",
            "Found 10 files belonging to 1 classes.\n",
            "FID: 323.811\n",
            "Found 9 files belonging to 1 classes.\n",
            "Found 10 files belonging to 1 classes.\n",
            "FID: 328.176\n",
            "Found 9 files belonging to 1 classes.\n",
            "Found 10 files belonging to 1 classes.\n",
            "WARNING:tensorflow:5 out of the last 9 calls to <function Model.make_predict_function.<locals>.predict_function at 0x7f6f447757a0> triggered tf.function retracing. Tracing is expensive and the excessive number of tracings could be due to (1) creating @tf.function repeatedly in a loop, (2) passing tensors with different shapes, (3) passing Python objects instead of tensors. For (1), please define your @tf.function outside of the loop. For (2), @tf.function has experimental_relax_shapes=True option that relaxes argument shapes that can avoid unnecessary retracing. For (3), please refer to https://www.tensorflow.org/guide/function#controlling_retracing and https://www.tensorflow.org/api_docs/python/tf/function for  more details.\n",
            "FID: 349.809\n",
            "Found 9 files belonging to 1 classes.\n",
            "Found 9 files belonging to 1 classes.\n",
            "WARNING:tensorflow:6 out of the last 11 calls to <function Model.make_predict_function.<locals>.predict_function at 0x7f6f446d87a0> triggered tf.function retracing. Tracing is expensive and the excessive number of tracings could be due to (1) creating @tf.function repeatedly in a loop, (2) passing tensors with different shapes, (3) passing Python objects instead of tensors. For (1), please define your @tf.function outside of the loop. For (2), @tf.function has experimental_relax_shapes=True option that relaxes argument shapes that can avoid unnecessary retracing. For (3), please refer to https://www.tensorflow.org/guide/function#controlling_retracing and https://www.tensorflow.org/api_docs/python/tf/function for  more details.\n",
            "FID: 272.321\n"
          ]
        }
      ]
    },
    {
      "cell_type": "code",
      "source": [
        "result_wgan = []\n",
        "for i in [0, 1, 2, 10, 20, 50, 100, 150, 199]:\n",
        "  gan_path = 'Evaluation_fake/WGAN/epoch_' + str(i)\n",
        "  result_wgan.append(run('Evaluation_real', gan_path))"
      ],
      "metadata": {
        "colab": {
          "base_uri": "https://localhost:8080/"
        },
        "id": "uo-56hiRrNzZ",
        "outputId": "7f9ef422-fdb2-46a4-e2df-0ddfd235063c"
      },
      "execution_count": 5,
      "outputs": [
        {
          "output_type": "stream",
          "name": "stdout",
          "text": [
            "Found 9 files belonging to 1 classes.\n",
            "Found 9 files belonging to 1 classes.\n",
            "FID: 307.748\n",
            "Found 9 files belonging to 1 classes.\n",
            "Found 9 files belonging to 1 classes.\n",
            "FID: 364.440\n",
            "Found 9 files belonging to 1 classes.\n",
            "Found 9 files belonging to 1 classes.\n",
            "FID: 367.785\n",
            "Found 9 files belonging to 1 classes.\n",
            "Found 9 files belonging to 1 classes.\n",
            "FID: 318.437\n",
            "Found 9 files belonging to 1 classes.\n",
            "Found 9 files belonging to 1 classes.\n",
            "FID: 199.415\n",
            "Found 9 files belonging to 1 classes.\n",
            "Found 9 files belonging to 1 classes.\n",
            "FID: 174.695\n",
            "Found 9 files belonging to 1 classes.\n",
            "Found 9 files belonging to 1 classes.\n",
            "FID: 180.076\n",
            "Found 9 files belonging to 1 classes.\n",
            "Found 9 files belonging to 1 classes.\n",
            "FID: 156.873\n",
            "Found 9 files belonging to 1 classes.\n",
            "Found 9 files belonging to 1 classes.\n",
            "FID: 191.229\n"
          ]
        }
      ]
    },
    {
      "cell_type": "code",
      "source": [
        "plt.figure(figsize=[8,6])\n",
        "plt.plot([0, 2, 15, 30, 50, 99], result_dcgan, color='b',linewidth=3.0)\n",
        "plt.xlabel('Epochs ',fontsize=16)\n",
        "plt.ylabel('FID score',fontsize=16)\n",
        "plt.title('DCGAN - FID Curves',fontsize=16)"
      ],
      "metadata": {
        "id": "_H96903A6sHu",
        "colab": {
          "base_uri": "https://localhost:8080/",
          "height": 429
        },
        "outputId": "09294b8c-ff5c-4742-fc80-e6e0ebc9e926"
      },
      "execution_count": 6,
      "outputs": [
        {
          "output_type": "execute_result",
          "data": {
            "text/plain": [
              "Text(0.5, 1.0, 'DCGAN - FID Curves')"
            ]
          },
          "metadata": {},
          "execution_count": 6
        },
        {
          "output_type": "display_data",
          "data": {
            "text/plain": [
              "<Figure size 576x432 with 1 Axes>"
            ],
            "image/png": "[encoded data removed]"
          },
          "metadata": {
            "needs_background": "light"
          }
        }
      ]
    },
    {
      "cell_type": "code",
      "source": [
        "plt.figure(figsize=[8,6])\n",
        "plt.plot([0, 1, 2, 10, 20, 50, 100, 150, 199], result_wgan, color='b',linewidth=3.0)\n",
        "plt.xlabel('Epochs ',fontsize=16)\n",
        "plt.ylabel('FID score',fontsize=16)\n",
        "plt.title('WGAN - FID Curves',fontsize=16)"
      ],
      "metadata": {
        "colab": {
          "base_uri": "https://localhost:8080/",
          "height": 429
        },
        "id": "ao_Z-8iEtkZf",
        "outputId": "5dd6f839-8130-4bf4-b4cd-0cf7e9dee76e"
      },
      "execution_count": 7,
      "outputs": [
        {
          "output_type": "execute_result",
          "data": {
            "text/plain": [
              "Text(0.5, 1.0, 'WGAN - FID Curves')"
            ]
          },
          "metadata": {},
          "execution_count": 7
        },
        {
          "output_type": "display_data",
          "data": {
            "text/plain": [
              "<Figure size 576x432 with 1 Axes>"
            ],
            "image/png": "[encoded data removed]"
          },
          "metadata": {
            "needs_background": "light"
          }
        }
      ]
    },
    {
      "cell_type": "code",
      "source": [
        ""
      ],
      "metadata": {
        "id": "Y7dICzsPLfEs"
      },
      "execution_count": 8,
      "outputs": []
    }
  ]
}