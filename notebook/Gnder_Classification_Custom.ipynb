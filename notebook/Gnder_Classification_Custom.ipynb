{
 "cells": [
  {
   "cell_type": "markdown",
   "metadata": {},
   "source": [
    "# Deep Learning Project\n",
    "## Classification"
   ]
  },
  {
   "cell_type": "code",
   "execution_count": 18,
   "metadata": {},
   "outputs": [],
   "source": [
    "# import libraries\n",
    "import numpy as np  \n",
    "import pandas as pd \n",
    "import sklearn.metrics\n",
    "from sklearn.metrics import ConfusionMatrixDisplay\n",
    "from sklearn.metrics import classification_report, confusion_matrix\n",
    "\n",
    "import matplotlib.pyplot as plt \n",
    "import matplotlib.image as mpimg # For displaying images\n",
    "%matplotlib inline\n",
    "from keras import models\n",
    "# from keras import layers\n",
    "from keras.layers import Dense, Activation, Flatten, Dropout, BatchNormalization, Conv2D, MaxPooling2D\n",
    "import keras.preprocessing  as kp\n",
    "from keras.preprocessing.image import ImageDataGenerator\n",
    "from keras import regularizers\n",
    "from keras import optimizers\n",
    "from tensorflow.keras.utils import plot_model\n",
    "\n",
    "import os\n",
    "import tensorflow as tf"
   ]
  },
  {
   "cell_type": "code",
   "execution_count": 3,
   "metadata": {},
   "outputs": [
    {
     "name": "stdout",
     "output_type": "stream",
     "text": [
      "WARNING:tensorflow:From /tmp/ipykernel_6515/337460670.py:1: is_gpu_available (from tensorflow.python.framework.test_util) is deprecated and will be removed in a future version.\n",
      "Instructions for updating:\n",
      "Use `tf.config.list_physical_devices('GPU')` instead.\n"
     ]
    },
    {
     "name": "stderr",
     "output_type": "stream",
     "text": [
      "2022-05-26 18:44:59.902206: I tensorflow/core/platform/cpu_feature_guard.cc:193] This TensorFlow binary is optimized with oneAPI Deep Neural Network Library (oneDNN) to use the following CPU instructions in performance-critical operations:  AVX2 AVX512F AVX512_VNNI FMA\n",
      "To enable them in other operations, rebuild TensorFlow with the appropriate compiler flags.\n"
     ]
    },
    {
     "data": {
      "text/plain": [
       "True"
      ]
     },
     "execution_count": 3,
     "metadata": {},
     "output_type": "execute_result"
    },
    {
     "name": "stderr",
     "output_type": "stream",
     "text": [
      "2022-05-26 18:45:03.757193: W tensorflow/core/common_runtime/gpu/gpu_bfc_allocator.cc:42] Overriding orig_value setting because the TF_FORCE_GPU_ALLOW_GROWTH environment variable is set. Original config value was 0.\n",
      "2022-05-26 18:45:03.757257: I tensorflow/core/common_runtime/gpu/gpu_device.cc:1532] Created device /device:GPU:0 with 9648 MB memory:  -> device: 0, name: GeForce RTX 2080 Ti, pci bus id: 0000:3e:00.0, compute capability: 7.5\n"
     ]
    }
   ],
   "source": [
    "tf.test.is_gpu_available()"
   ]
  },
  {
   "cell_type": "code",
   "execution_count": 3,
   "metadata": {},
   "outputs": [],
   "source": [
    "# import zipfile\n",
    "\n",
    "# path_to_zip_file = \"/nfs/home/twd1956/DeepLearning/Project/archive.zip\"\n",
    "# directory_to_extract_to = \"/nfs/home/twd1956/DeepLearning/Project/\"\n",
    "\n",
    "# with zipfile.ZipFile(path_to_zip_file, 'r') as zip_ref:\n",
    "#     zip_ref.extractall(directory_to_extract_to)"
   ]
  },
  {
   "cell_type": "code",
   "execution_count": 4,
   "metadata": {},
   "outputs": [],
   "source": [
    "# File path\n",
    "PATH = \"/nfs/home/twd1956/DeepLearning/Project/\"\n",
    "\n",
    "train_dir = os.path.join(PATH, 'Training')\n",
    "validation_dir = os.path.join(PATH, 'Validation')\n",
    "\n",
    "BATCH_SIZE = 48\n",
    "IMG_SIZE = (250, 250)"
   ]
  },
  {
   "cell_type": "code",
   "execution_count": 5,
   "metadata": {},
   "outputs": [],
   "source": [
    "# Data Augumentation\n",
    "train_datagen = ImageDataGenerator( \n",
    "                rescale=1./255,\n",
    "                rotation_range=30,\n",
    "                shear_range=0.3,\n",
    "                zoom_range=0.3\n",
    "                )\n",
    "\n",
    "test_datagen = ImageDataGenerator(rescale=1./255)"
   ]
  },
  {
   "cell_type": "code",
   "execution_count": 6,
   "metadata": {},
   "outputs": [
    {
     "name": "stdout",
     "output_type": "stream",
     "text": [
      "Found 47009 images belonging to 2 classes.\n"
     ]
    }
   ],
   "source": [
    "# training datast\n",
    "train_gen=train_datagen.flow_from_directory(train_dir,\n",
    "                                            target_size=IMG_SIZE,\n",
    "                                            batch_size=BATCH_SIZE,\n",
    "                                            class_mode='binary')"
   ]
  },
  {
   "cell_type": "code",
   "execution_count": 55,
   "metadata": {},
   "outputs": [
    {
     "name": "stdout",
     "output_type": "stream",
     "text": [
      "Found 11649 images belonging to 2 classes.\n"
     ]
    }
   ],
   "source": [
    "# validation datast\n",
    "valid_gen=test_datagen.flow_from_directory(validation_dir,\n",
    "                                           target_size=(250,250),\n",
    "                                           batch_size=48,\n",
    "                                           class_mode='binary', \n",
    "                                           shuffle=False)"
   ]
  },
  {
   "cell_type": "code",
   "execution_count": 8,
   "metadata": {},
   "outputs": [],
   "source": [
    "kernel_s = (3,3)"
   ]
  },
  {
   "cell_type": "code",
   "execution_count": 9,
   "metadata": {},
   "outputs": [
    {
     "name": "stderr",
     "output_type": "stream",
     "text": [
      "2022-05-26 18:45:24.935552: I tensorflow/core/common_runtime/gpu/gpu_device.cc:1532] Created device /job:localhost/replica:0/task:0/device:GPU:0 with 9648 MB memory:  -> device: 0, name: GeForce RTX 2080 Ti, pci bus id: 0000:3e:00.0, compute capability: 7.5\n"
     ]
    }
   ],
   "source": [
    "# Custom Classification Model Architecture\n",
    "model=models.Sequential()\n",
    "model.add(Conv2D(32,kernel_s,activation='relu',input_shape=(250,250,3),\n",
    "                        kernel_regularizer=regularizers.l2(0.001),padding=\"VALID\"))\n",
    "model.add(MaxPooling2D((2,2)))\n",
    "\n",
    "model.add(Conv2D(64,kernel_s,activation='relu'))\n",
    "model.add(MaxPooling2D((2,2)))\n",
    "model.add(Conv2D(64,kernel_s,activation='relu'))\n",
    "model.add(MaxPooling2D((2,2)))\n",
    "\n",
    "model.add(Conv2D(128,kernel_s,activation='relu'))\n",
    "model.add(MaxPooling2D((2,2)))\n",
    "model.add(Conv2D(128,kernel_s,activation='relu'))\n",
    "model.add(MaxPooling2D((2,2)))\n",
    "\n",
    "model.add(Flatten())\n",
    "model.add(Dense(256,activation='relu'))\n",
    "model.add(Dense(1,activation='sigmoid'))"
   ]
  },
  {
   "cell_type": "code",
   "execution_count": 10,
   "metadata": {},
   "outputs": [],
   "source": [
    "model.compile(optimizer='rmsprop',loss='binary_crossentropy',metrics=['acc'])"
   ]
  },
  {
   "cell_type": "code",
   "execution_count": 11,
   "metadata": {},
   "outputs": [
    {
     "name": "stdout",
     "output_type": "stream",
     "text": [
      "Model: \"sequential\"\n",
      "_________________________________________________________________\n",
      " Layer (type)                Output Shape              Param #   \n",
      "=================================================================\n",
      " conv2d (Conv2D)             (None, 248, 248, 32)      896       \n",
      "                                                                 \n",
      " max_pooling2d (MaxPooling2D  (None, 124, 124, 32)     0         \n",
      " )                                                               \n",
      "                                                                 \n",
      " conv2d_1 (Conv2D)           (None, 122, 122, 64)      18496     \n",
      "                                                                 \n",
      " max_pooling2d_1 (MaxPooling  (None, 61, 61, 64)       0         \n",
      " 2D)                                                             \n",
      "                                                                 \n",
      " conv2d_2 (Conv2D)           (None, 59, 59, 64)        36928     \n",
      "                                                                 \n",
      " max_pooling2d_2 (MaxPooling  (None, 29, 29, 64)       0         \n",
      " 2D)                                                             \n",
      "                                                                 \n",
      " conv2d_3 (Conv2D)           (None, 27, 27, 128)       73856     \n",
      "                                                                 \n",
      " max_pooling2d_3 (MaxPooling  (None, 13, 13, 128)      0         \n",
      " 2D)                                                             \n",
      "                                                                 \n",
      " conv2d_4 (Conv2D)           (None, 11, 11, 128)       147584    \n",
      "                                                                 \n",
      " max_pooling2d_4 (MaxPooling  (None, 5, 5, 128)        0         \n",
      " 2D)                                                             \n",
      "                                                                 \n",
      " flatten (Flatten)           (None, 3200)              0         \n",
      "                                                                 \n",
      " dense (Dense)               (None, 256)               819456    \n",
      "                                                                 \n",
      " dense_1 (Dense)             (None, 1)                 257       \n",
      "                                                                 \n",
      "=================================================================\n",
      "Total params: 1,097,473\n",
      "Trainable params: 1,097,473\n",
      "Non-trainable params: 0\n",
      "_________________________________________________________________\n"
     ]
    }
   ],
   "source": [
    "model.summary()"
   ]
  },
  {
   "cell_type": "code",
   "execution_count": 13,
   "metadata": {},
   "outputs": [
    {
     "name": "stdout",
     "output_type": "stream",
     "text": [
      "Epoch 1/50\n",
      "70/70 [==============================] - 82s 1s/step - loss: 0.7008 - acc: 0.5750 - val_loss: 0.6640 - val_acc: 0.6671\n",
      "Epoch 2/50\n",
      "70/70 [==============================] - 84s 1s/step - loss: 0.6359 - acc: 0.6818 - val_loss: 0.4878 - val_acc: 0.7729\n",
      "Epoch 3/50\n",
      "70/70 [==============================] - 82s 1s/step - loss: 0.5417 - acc: 0.7558 - val_loss: 0.4213 - val_acc: 0.8238\n",
      "Epoch 4/50\n",
      "70/70 [==============================] - 82s 1s/step - loss: 0.5001 - acc: 0.7726 - val_loss: 0.3923 - val_acc: 0.8500\n",
      "Epoch 5/50\n",
      "70/70 [==============================] - 80s 1s/step - loss: 0.4571 - acc: 0.7994 - val_loss: 0.3233 - val_acc: 0.8650\n",
      "Epoch 6/50\n",
      "70/70 [==============================] - 82s 1s/step - loss: 0.4039 - acc: 0.8280 - val_loss: 0.4224 - val_acc: 0.8104\n",
      "Epoch 7/50\n",
      "70/70 [==============================] - 79s 1s/step - loss: 0.3837 - acc: 0.8330 - val_loss: 0.3414 - val_acc: 0.8658\n",
      "Epoch 8/50\n",
      "70/70 [==============================] - 81s 1s/step - loss: 0.3503 - acc: 0.8461 - val_loss: 0.2627 - val_acc: 0.8921\n",
      "Epoch 9/50\n",
      "70/70 [==============================] - 78s 1s/step - loss: 0.3617 - acc: 0.8432 - val_loss: 0.2980 - val_acc: 0.8875\n",
      "Epoch 10/50\n",
      "70/70 [==============================] - 77s 1s/step - loss: 0.3224 - acc: 0.8670 - val_loss: 0.2260 - val_acc: 0.9142\n",
      "Epoch 11/50\n",
      "70/70 [==============================] - 76s 1s/step - loss: 0.3152 - acc: 0.8735 - val_loss: 0.2387 - val_acc: 0.9029\n",
      "Epoch 12/50\n",
      "70/70 [==============================] - 76s 1s/step - loss: 0.3002 - acc: 0.8759 - val_loss: 0.2685 - val_acc: 0.8896\n",
      "Epoch 13/50\n",
      "70/70 [==============================] - 75s 1s/step - loss: 0.2961 - acc: 0.8801 - val_loss: 0.2003 - val_acc: 0.9233\n",
      "Epoch 14/50\n",
      "70/70 [==============================] - 74s 1s/step - loss: 0.2791 - acc: 0.8836 - val_loss: 0.2565 - val_acc: 0.8938\n",
      "Epoch 15/50\n",
      "70/70 [==============================] - 74s 1s/step - loss: 0.2878 - acc: 0.8899 - val_loss: 0.1833 - val_acc: 0.9283\n",
      "Epoch 16/50\n",
      "70/70 [==============================] - 74s 1s/step - loss: 0.2664 - acc: 0.8932 - val_loss: 0.2017 - val_acc: 0.9233\n",
      "Epoch 17/50\n",
      "70/70 [==============================] - 77s 1s/step - loss: 0.2594 - acc: 0.8967 - val_loss: 0.1673 - val_acc: 0.9371\n",
      "Epoch 18/50\n",
      "70/70 [==============================] - 79s 1s/step - loss: 0.2508 - acc: 0.9018 - val_loss: 0.2020 - val_acc: 0.9196\n",
      "Epoch 19/50\n",
      "70/70 [==============================] - 73s 1s/step - loss: 0.2634 - acc: 0.8970 - val_loss: 0.1969 - val_acc: 0.9237\n",
      "Epoch 20/50\n",
      "70/70 [==============================] - 73s 1s/step - loss: 0.2384 - acc: 0.9051 - val_loss: 0.1712 - val_acc: 0.9417\n",
      "Epoch 21/50\n",
      "70/70 [==============================] - 73s 1s/step - loss: 0.2449 - acc: 0.8997 - val_loss: 0.1612 - val_acc: 0.9417\n",
      "Epoch 22/50\n",
      "70/70 [==============================] - 73s 1s/step - loss: 0.2389 - acc: 0.9119 - val_loss: 0.1938 - val_acc: 0.9250\n",
      "Epoch 23/50\n",
      "70/70 [==============================] - 76s 1s/step - loss: 0.2292 - acc: 0.9092 - val_loss: 0.1742 - val_acc: 0.9367\n",
      "Epoch 24/50\n",
      "70/70 [==============================] - 73s 1s/step - loss: 0.2232 - acc: 0.9092 - val_loss: 0.1988 - val_acc: 0.9312\n",
      "Epoch 25/50\n",
      "70/70 [==============================] - 73s 1s/step - loss: 0.2251 - acc: 0.9134 - val_loss: 0.1571 - val_acc: 0.9454\n",
      "Epoch 26/50\n",
      "70/70 [==============================] - 72s 1s/step - loss: 0.2326 - acc: 0.9092 - val_loss: 0.1785 - val_acc: 0.9292\n",
      "Epoch 27/50\n",
      "70/70 [==============================] - 72s 1s/step - loss: 0.2294 - acc: 0.9143 - val_loss: 0.1661 - val_acc: 0.9388\n",
      "Epoch 28/50\n",
      "70/70 [==============================] - 76s 1s/step - loss: 0.2130 - acc: 0.9155 - val_loss: 0.1984 - val_acc: 0.9275\n",
      "Epoch 29/50\n",
      "70/70 [==============================] - 72s 1s/step - loss: 0.2156 - acc: 0.9187 - val_loss: 0.1685 - val_acc: 0.9383\n",
      "Epoch 30/50\n",
      "70/70 [==============================] - 71s 1s/step - loss: 0.2338 - acc: 0.9158 - val_loss: 0.1525 - val_acc: 0.9404\n",
      "Epoch 31/50\n",
      "70/70 [==============================] - 71s 1s/step - loss: 0.2259 - acc: 0.9173 - val_loss: 0.1536 - val_acc: 0.9458\n",
      "Epoch 32/50\n",
      "70/70 [==============================] - 71s 1s/step - loss: 0.2106 - acc: 0.9196 - val_loss: 0.1653 - val_acc: 0.9400\n",
      "Epoch 33/50\n",
      "70/70 [==============================] - 71s 1s/step - loss: 0.1972 - acc: 0.9262 - val_loss: 0.1896 - val_acc: 0.9296\n",
      "Epoch 34/50\n",
      "70/70 [==============================] - 72s 1s/step - loss: 0.1994 - acc: 0.9277 - val_loss: 0.1481 - val_acc: 0.9442\n",
      "Epoch 35/50\n",
      "70/70 [==============================] - 71s 1s/step - loss: 0.1896 - acc: 0.9327 - val_loss: 0.1795 - val_acc: 0.9354\n",
      "Epoch 36/50\n",
      "70/70 [==============================] - 71s 1s/step - loss: 0.2045 - acc: 0.9223 - val_loss: 0.2003 - val_acc: 0.9242\n",
      "Epoch 37/50\n",
      "70/70 [==============================] - 72s 1s/step - loss: 0.2143 - acc: 0.9262 - val_loss: 0.1643 - val_acc: 0.9404\n",
      "Epoch 38/50\n",
      "70/70 [==============================] - 72s 1s/step - loss: 0.2044 - acc: 0.9304 - val_loss: 0.1317 - val_acc: 0.9504\n",
      "Epoch 39/50\n",
      "70/70 [==============================] - 72s 1s/step - loss: 0.1941 - acc: 0.9220 - val_loss: 0.1353 - val_acc: 0.9488\n",
      "Epoch 40/50\n",
      "70/70 [==============================] - 71s 1s/step - loss: 0.1958 - acc: 0.9253 - val_loss: 0.1241 - val_acc: 0.9550\n",
      "Epoch 41/50\n",
      "70/70 [==============================] - 71s 1s/step - loss: 0.1963 - acc: 0.9289 - val_loss: 0.1160 - val_acc: 0.9613\n",
      "Epoch 42/50\n",
      "70/70 [==============================] - 71s 1s/step - loss: 0.1943 - acc: 0.9298 - val_loss: 0.1304 - val_acc: 0.9538\n",
      "Epoch 43/50\n",
      "70/70 [==============================] - 71s 1s/step - loss: 0.1799 - acc: 0.9307 - val_loss: 0.2030 - val_acc: 0.9237\n",
      "Epoch 44/50\n",
      "70/70 [==============================] - 72s 1s/step - loss: 0.1710 - acc: 0.9390 - val_loss: 0.1322 - val_acc: 0.9513\n",
      "Epoch 45/50\n",
      "70/70 [==============================] - 72s 1s/step - loss: 0.1856 - acc: 0.9315 - val_loss: 0.1226 - val_acc: 0.9550\n",
      "Epoch 46/50\n",
      "70/70 [==============================] - 72s 1s/step - loss: 0.1925 - acc: 0.9295 - val_loss: 0.1288 - val_acc: 0.9550\n",
      "Epoch 47/50\n",
      "70/70 [==============================] - 73s 1s/step - loss: 0.1868 - acc: 0.9283 - val_loss: 0.1277 - val_acc: 0.9533\n",
      "Epoch 48/50\n",
      "70/70 [==============================] - 71s 1s/step - loss: 0.1690 - acc: 0.9396 - val_loss: 0.1268 - val_acc: 0.9596\n",
      "Epoch 49/50\n",
      "70/70 [==============================] - 71s 1s/step - loss: 0.1750 - acc: 0.9399 - val_loss: 0.1657 - val_acc: 0.9425\n",
      "Epoch 50/50\n",
      "70/70 [==============================] - 72s 1s/step - loss: 0.1874 - acc: 0.9348 - val_loss: 0.1436 - val_acc: 0.9500\n"
     ]
    }
   ],
   "source": [
    "# Train the model\n",
    "history=model.fit(train_gen,\n",
    "                  steps_per_epoch=70,\n",
    "                  epochs=50,\n",
    "                  validation_data=valid_gen,\n",
    "                  validation_steps=50, \n",
    "                  verbose=1)"
   ]
  },
  {
   "cell_type": "code",
   "execution_count": 14,
   "metadata": {},
   "outputs": [
    {
     "name": "stdout",
     "output_type": "stream",
     "text": [
      "Model: \"sequential\"\n",
      "_________________________________________________________________\n",
      " Layer (type)                Output Shape              Param #   \n",
      "=================================================================\n",
      " conv2d (Conv2D)             (None, 248, 248, 32)      896       \n",
      "                                                                 \n",
      " max_pooling2d (MaxPooling2D  (None, 124, 124, 32)     0         \n",
      " )                                                               \n",
      "                                                                 \n",
      " conv2d_1 (Conv2D)           (None, 122, 122, 64)      18496     \n",
      "                                                                 \n",
      " max_pooling2d_1 (MaxPooling  (None, 61, 61, 64)       0         \n",
      " 2D)                                                             \n",
      "                                                                 \n",
      " conv2d_2 (Conv2D)           (None, 59, 59, 64)        36928     \n",
      "                                                                 \n",
      " max_pooling2d_2 (MaxPooling  (None, 29, 29, 64)       0         \n",
      " 2D)                                                             \n",
      "                                                                 \n",
      " conv2d_3 (Conv2D)           (None, 27, 27, 128)       73856     \n",
      "                                                                 \n",
      " max_pooling2d_3 (MaxPooling  (None, 13, 13, 128)      0         \n",
      " 2D)                                                             \n",
      "                                                                 \n",
      " conv2d_4 (Conv2D)           (None, 11, 11, 128)       147584    \n",
      "                                                                 \n",
      " max_pooling2d_4 (MaxPooling  (None, 5, 5, 128)        0         \n",
      " 2D)                                                             \n",
      "                                                                 \n",
      " flatten (Flatten)           (None, 3200)              0         \n",
      "                                                                 \n",
      " dense (Dense)               (None, 256)               819456    \n",
      "                                                                 \n",
      " dense_1 (Dense)             (None, 1)                 257       \n",
      "                                                                 \n",
      "=================================================================\n",
      "Total params: 1,097,473\n",
      "Trainable params: 1,097,473\n",
      "Non-trainable params: 0\n",
      "_________________________________________________________________\n"
     ]
    }
   ],
   "source": [
    "model.summary()"
   ]
  },
  {
   "cell_type": "code",
   "execution_count": 15,
   "metadata": {},
   "outputs": [],
   "source": [
    "# #save model to disk\n",
    "# model_json = model.to_json()\n",
    "# with open('model_custom.json', 'w') as json_file:\n",
    "#     json_file.write(model_json)\n",
    "# model.save_weights('model_custom') "
   ]
  },
  {
   "cell_type": "code",
   "execution_count": 16,
   "metadata": {},
   "outputs": [
    {
     "data": {
      "text/plain": [
       "Text(0.5, 1.0, 'Loss Curves')"
      ]
     },
     "execution_count": 16,
     "metadata": {},
     "output_type": "execute_result"
    },
    {
     "data": {
      "image/png": "[encoded data removed]",
      "text/plain": [
       "<Figure size 576x432 with 1 Axes>"
      ]
     },
     "metadata": {
      "needs_background": "light"
     },
     "output_type": "display_data"
    }
   ],
   "source": [
    "# Loss Curves for Training Loss and Validation Loss over Epochs\n",
    "plt.figure(figsize=[8,6])\n",
    "plt.plot(history.history['loss'],'r',linewidth=3.0)\n",
    "plt.plot(history.history['val_loss'],'b',linewidth=3.0)\n",
    "plt.legend(['Training loss', 'Validation Loss'],fontsize=18)\n",
    "plt.xlabel('Epochs ',fontsize=16)\n",
    "plt.ylabel('Loss',fontsize=16)\n",
    "plt.title('Loss Curves',fontsize=16)"
   ]
  },
  {
   "cell_type": "code",
   "execution_count": 15,
   "metadata": {},
   "outputs": [
    {
     "name": "stdout",
     "output_type": "stream",
     "text": [
      "243/243 [==============================] - 38s 158ms/step - loss: 0.1467 - acc: 0.9470\n",
      "\n",
      "Test result: 94.703 loss: 0.147\n"
     ]
    }
   ],
   "source": [
    "#testing - accuracy\n",
    "scores = model.evaluate(valid_gen, batch_size=BATCH_SIZE, verbose=1)\n",
    "print('\\nTest result: %.3f loss: %.3f' % (scores[1]*100,scores[0]))"
   ]
  },
  {
   "cell_type": "code",
   "execution_count": 56,
   "metadata": {},
   "outputs": [
    {
     "name": "stdout",
     "output_type": "stream",
     "text": [
      "243/243 [==============================] - 36s 147ms/step\n"
     ]
    }
   ],
   "source": [
    "Y_pred = model.predict(valid_gen)"
   ]
  },
  {
   "cell_type": "code",
   "execution_count": 62,
   "metadata": {},
   "outputs": [
    {
     "data": {
      "text/plain": [
       "array([[6.0592588e-06],\n",
       "       [1.0070945e-03],\n",
       "       [1.3304828e-03],\n",
       "       ...,\n",
       "       [8.9001495e-01],\n",
       "       [9.9903762e-01],\n",
       "       [9.9999332e-01]], dtype=float32)"
      ]
     },
     "execution_count": 62,
     "metadata": {},
     "output_type": "execute_result"
    }
   ],
   "source": [
    "Y_pred "
   ]
  },
  {
   "cell_type": "code",
   "execution_count": 63,
   "metadata": {},
   "outputs": [],
   "source": [
    "y_pred = [1 if i[0] > 0.5 else 0 for i in Y_pred]"
   ]
  },
  {
   "cell_type": "code",
   "execution_count": 64,
   "metadata": {},
   "outputs": [
    {
     "data": {
      "text/plain": [
       "0.9470340801785561"
      ]
     },
     "execution_count": 64,
     "metadata": {},
     "output_type": "execute_result"
    }
   ],
   "source": [
    "np.mean(y_pred == valid_gen.classes )"
   ]
  },
  {
   "cell_type": "code",
   "execution_count": 65,
   "metadata": {},
   "outputs": [
    {
     "name": "stdout",
     "output_type": "stream",
     "text": [
      "[[5696  145]\n",
      " [ 472 5336]]\n"
     ]
    }
   ],
   "source": [
    "print(confusion_matrix(valid_gen.classes, y_pred))"
   ]
  },
  {
   "cell_type": "code",
   "execution_count": 66,
   "metadata": {},
   "outputs": [
    {
     "data": {
      "image/png": "[encoded data removed]",
      "text/plain": [
       "<Figure size 432x288 with 2 Axes>"
      ]
     },
     "metadata": {
      "needs_background": "light"
     },
     "output_type": "display_data"
    }
   ],
   "source": [
    "# Confusion Matrix for Validation Dataset\n",
    "cm = confusion_matrix(valid_gen.classes, y_pred)\n",
    "\n",
    "disp = ConfusionMatrixDisplay(confusion_matrix=cm) #, display_labels=labels)\n",
    "\n",
    "disp.plot(cmap=plt.cm.Blues)\n",
    "plt.show()"
   ]
  },
  {
   "cell_type": "code",
   "execution_count": 67,
   "metadata": {},
   "outputs": [
    {
     "name": "stdout",
     "output_type": "stream",
     "text": [
      "              precision    recall  f1-score   support\n",
      "\n",
      "           0       0.92      0.98      0.95      5841\n",
      "           1       0.97      0.92      0.95      5808\n",
      "\n",
      "    accuracy                           0.95     11649\n",
      "   macro avg       0.95      0.95      0.95     11649\n",
      "weighted avg       0.95      0.95      0.95     11649\n",
      "\n"
     ]
    }
   ],
   "source": [
    "# Classification Report for Validation Dataset\n",
    "print(classification_report(valid_gen.classes, y_pred) )#, target_names=target_names))"
   ]
  }
 ],
 "metadata": {
  "kernelspec": {
   "display_name": "Python 3",
   "language": "python",
   "name": "python3"
  },
  "language_info": {
   "codemirror_mode": {
    "name": "ipython",
    "version": 3
   },
   "file_extension": ".py",
   "mimetype": "text/x-python",
   "name": "python",
   "nbconvert_exporter": "python",
   "pygments_lexer": "ipython3",
   "version": "3.8.8"
  }
 },
 "nbformat": 4,
 "nbformat_minor": 4
}
